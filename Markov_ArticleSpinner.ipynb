{
 "cells": [
  {
   "cell_type": "code",
   "execution_count": 1,
   "metadata": {
    "id": "AZZlUtZx-n9x"
   },
   "outputs": [],
   "source": [
    "import numpy as np\n",
    "import pandas as pd\n",
    "import scipy as sp"
   ]
  },
  {
   "cell_type": "code",
   "execution_count": 2,
   "metadata": {
    "id": "x1HiGbDU-6P1"
   },
   "outputs": [],
   "source": [
    "import nltk\n",
    "from nltk.tokenize import word_tokenize, TreebankWordDetokenizer\n",
    "from nltk.stem import PorterStemmer, WordNetLemmatizer\n",
    "from nltk.corpus import wordnet"
   ]
  },
  {
   "cell_type": "code",
   "execution_count": 3,
   "metadata": {
    "id": "XbuPQe6X_eWV"
   },
   "outputs": [],
   "source": [
    "import torch\n",
    "import tensorflow as tf"
   ]
  },
  {
   "cell_type": "markdown",
   "metadata": {
    "id": "3AOr69mF_hAM"
   },
   "source": [
    "# Importing Data"
   ]
  },
  {
   "cell_type": "code",
   "execution_count": 4,
   "metadata": {
    "colab": {
     "base_uri": "https://localhost:8080/"
    },
    "id": "OKtHfmiMBwc4",
    "outputId": "2d6d0c72-788d-4370-c355-1566fe97a66b"
   },
   "outputs": [
    {
     "name": "stderr",
     "output_type": "stream",
     "text": [
      "[nltk_data] Downloading package punkt to /root/nltk_data...\n",
      "[nltk_data]   Unzipping tokenizers/punkt.zip.\n",
      "[nltk_data] Downloading package averaged_perceptron_tagger to\n",
      "[nltk_data]     /root/nltk_data...\n",
      "[nltk_data]   Unzipping taggers/averaged_perceptron_tagger.zip.\n",
      "[nltk_data] Downloading package wordnet to /root/nltk_data...\n"
     ]
    },
    {
     "data": {
      "text/plain": [
       "True"
      ]
     },
     "execution_count": 4,
     "metadata": {},
     "output_type": "execute_result"
    }
   ],
   "source": [
    "nltk.download('punkt')\n",
    "nltk.download('averaged_perceptron_tagger')\n",
    "nltk.download('wordnet')"
   ]
  },
  {
   "cell_type": "code",
   "execution_count": 6,
   "metadata": {
    "id": "sHtfOevQ_oli"
   },
   "outputs": [],
   "source": [
    "dataset = pd.read_csv('bbc_text_cls.csv')"
   ]
  },
  {
   "cell_type": "code",
   "execution_count": 7,
   "metadata": {
    "id": "V0a1yqPAAWKe"
   },
   "outputs": [],
   "source": [
    "data = dataset.iloc[:,0].values"
   ]
  },
  {
   "cell_type": "markdown",
   "metadata": {
    "id": "f72TnJDEOP4s"
   },
   "source": [
    "# Sparse Alt"
   ]
  },
  {
   "cell_type": "code",
   "execution_count": 25,
   "metadata": {
    "id": "O0qPepDgOPkm"
   },
   "outputs": [],
   "source": [
    "class AltSparse():\n",
    "  def __init__(self):\n",
    "    self.x = {}\n",
    "\n",
    "  def update(self, prev, suff, token):\n",
    "    if (prev, suff) in self.x.keys():\n",
    "      if token in self.x[(prev, suff)].keys():\n",
    "        self.x[(prev, suff)][token] += 1\n",
    "      else:\n",
    "        self.x[(prev, suff)][token] = 1\n",
    "    else:\n",
    "      self.x[(prev, suff)] = {}\n",
    "      self.x[(prev, suff)][token] = 1\n",
    "\n",
    "  def prob(self, prev, suff):\n",
    "    table = self.x[(prev, suff)]\n",
    "    label = list(table.keys())\n",
    "    values = list(table.values())\n",
    "    probs = np.array(values)\n",
    "    probs = probs / np.sum(probs)\n",
    "    return label, probs"
   ]
  },
  {
   "cell_type": "markdown",
   "metadata": {
    "id": "yPzM5E0SAzTH"
   },
   "source": [
    "# Model"
   ]
  },
  {
   "cell_type": "code",
   "execution_count": 61,
   "metadata": {
    "id": "4OQ-Om9KAryR"
   },
   "outputs": [],
   "source": [
    "class ArticleSpinner():\n",
    "  def __init__(self):\n",
    "    self.x = AltSparse()\n",
    "    self.detokenize = TreebankWordDetokenizer()\n",
    "    self.n = 0\n",
    "\n",
    "  def fit(self, docs):\n",
    "    for doc in docs:\n",
    "      doc = word_tokenize(doc.lower())\n",
    "      t_2 = ''\n",
    "      t_1 = ''\n",
    "      for i, token in enumerate(doc):\n",
    "        if i == 0:\n",
    "          t_2 = token\n",
    "        elif i == 1:\n",
    "          t_1 = token\n",
    "        else:\n",
    "          self.x.update(t_2, token, t_1)\n",
    "          t_2 = t_1\n",
    "          t_1 = token\n",
    "      self.n += 1\n",
    "\n",
    "  def generate_token(self, prev='', suff=''):\n",
    "    labels, probs = self.x.prob(prev, suff)\n",
    "    idx = np.random.choice(len(labels), p=probs)\n",
    "    return labels[idx]\n",
    "\n",
    "\n",
    "  def generate(self, doc):\n",
    "    if type(doc) == str:\n",
    "      doc = word_tokenize(doc.lower())\n",
    "    else:\n",
    "      doc = word_tokenize(doc[0].lower())\n",
    "    new_doc = []\n",
    "    t_2 = ''\n",
    "    t_1 = ''\n",
    "    i = 0\n",
    "    for token in doc:\n",
    "      if token != '':\n",
    "        if i == 0:\n",
    "          t_2 = token\n",
    "          new_doc.append(token)\n",
    "        elif i == 1:\n",
    "          t_1 = token\n",
    "        else:\n",
    "          replacement = self.generate_token(t_2, token)\n",
    "          new_doc.append(replacement)\n",
    "          t_2 = t_1\n",
    "          t_1 = token\n",
    "        i+=1\n",
    "    new_doc.append(token)\n",
    "    return self.detokenize.detokenize(new_doc)"
   ]
  },
  {
   "cell_type": "code",
   "execution_count": 62,
   "metadata": {
    "id": "VhP7mffYyRN0"
   },
   "outputs": [],
   "source": [
    "model = ArticleSpinner()"
   ]
  },
  {
   "cell_type": "code",
   "execution_count": 63,
   "metadata": {
    "id": "FwvTFd_VzISz"
   },
   "outputs": [],
   "source": [
    "model.fit(data)"
   ]
  },
  {
   "cell_type": "code",
   "execution_count": 68,
   "metadata": {
    "colab": {
     "base_uri": "https://localhost:8080/",
     "height": 192
    },
    "id": "4e5DYP05ssEq",
    "outputId": "ef0f7325-47c4-4283-a0e3-2e2cb9748bd9"
   },
   "outputs": [
    {
     "data": {
      "application/vnd.google.colaboratory.intrinsic+json": {
       "type": "string"
      },
      "text/plain": [
       "'Bombardier chief to leave company\\n\\nShares in train and plane-making giant Bombardier have fallen to a 10-year low following the departure of its chief executive and two members of the board.\\n\\nPaul Tellier, who was also Bombardier\\'s president, left the company amid an ongoing restructuring. Laurent Beaudoin, part of the family that controls the Montreal-based firm, will take on the role of CEO under a newly created management structure. Analysts said the resignations seem to have stemmed from a boardroom dispute. Under Mr Tellier\\'s tenure at the company, which began in January 2003, plans to cut the worldwide workforce of 75,000 by almost a third by 2006 were announced. The firm\\'s snowmobile division and defence services unit were also sold and Bombardier started the development of a new aircraft seating 110 to 135 passengers.\\n\\nMr Tellier had indicated he wanted to stay at the world\\'s top train maker and third largest manufacturer of civil aircraft until the restructuring was complete. But Bombardier has been faced with a declining share price and profits. Earlier this month the firm said it earned $10m (£19.2m) in the third quarter, down from a profit of $133m a year ago. \"I understand the board\\'s concern that I would not be there for the long-term and the need to develop and execute strategies, and the need to reshape the management structure at this time,\" Mr Tellier said in a statement on Monday. Bombardier said restructuring plans drawn up by Mr Tellier\\'s would continue to be implemented. Shares in Bombardier lost 65 Canadian cents or 25% on the news to 1.90 Canadian dollars before rallying to 2.20 Canadian dollars.'"
      ]
     },
     "execution_count": 68,
     "metadata": {},
     "output_type": "execute_result"
    }
   ],
   "source": [
    "data[303]"
   ]
  },
  {
   "cell_type": "code",
   "execution_count": 69,
   "metadata": {
    "colab": {
     "base_uri": "https://localhost:8080/",
     "height": 192
    },
    "id": "kAtnN0xJpnDD",
    "outputId": "68c71f0a-7b8f-44db-8430-bc9312ab1133"
   },
   "outputs": [
    {
     "data": {
      "application/vnd.google.colaboratory.intrinsic+json": {
       "type": "string"
      },
      "text/plain": [
       "'bombardier chief to leave company collapsed in rome and plane-making giant bombardier have access to a five-week low at the creation of its chief executive and several thirds of key case . paul richards, it is also it\\'s business,\" the company amid an ongoing evaluation . laurent beaudoin, east of a numbers that avoided the uk firm, will appear in the option of 1985 faces a newly created management systems . it said the resignations seem to have come from a recent dispute . \"mr makarov\\'s world at the vice-chairman, which confirmed in october 2004, designed to occupy the worldwide head of ambition by using a study by 2006 were wrong by monitoring women\\'s auto division and video-on-demand services unit were later fell and bombardier started the emperor of other new aircraft seating 110 to whisk passengers . paul oaten had announced he aspired to be within the year\\'s top car maker and third largest maker of the aircraft and the euro was announced . but he has not concerned with a bigger share tips and disorder . \"this being the company said it owes $9.8m (£70.7m) raised our fourth year, up as a sense of $44.38 a year ago . \"we see the country\\'s promise that they would just think responsible because a queen and i comments to graeme and pr strategies, although we rights to close the career structure at no time .\" mr brown said . a performance on gamecube . she said the plans for up after mr glazer\\'s would continue to be exploited . but in bombardier lost 65 canadian cents or 18% from the deal to 1.90 canadian dollars before turning to 2.20 canadian dollars.'"
      ]
     },
     "execution_count": 69,
     "metadata": {},
     "output_type": "execute_result"
    }
   ],
   "source": [
    "new_doc = model.generate(data[303])\n",
    "new_doc"
   ]
  },
  {
   "cell_type": "code",
   "execution_count": 70,
   "metadata": {
    "colab": {
     "base_uri": "https://localhost:8080/"
    },
    "id": "Lffr9vbtv9Nm",
    "outputId": "9a0e0ebd-fe4d-4d9d-f808-9e180dfeb5e4"
   },
   "outputs": [
    {
     "name": "stdout",
     "output_type": "stream",
     "text": [
      "bombardier chief to leave company collapsed in rome and plane-making\n",
      "giant bombardier have access to a five-week low at the creation of its\n",
      "chief executive and several thirds of key case . paul richards, it is\n",
      "also it's business,\" the company amid an ongoing evaluation . laurent\n",
      "beaudoin, east of a numbers that avoided the uk firm, will appear in\n",
      "the option of 1985 faces a newly created management systems . it said\n",
      "the resignations seem to have come from a recent dispute . \"mr\n",
      "makarov's world at the vice-chairman, which confirmed in october 2004,\n",
      "designed to occupy the worldwide head of ambition by using a study by\n",
      "2006 were wrong by monitoring women's auto division and video-on-\n",
      "demand services unit were later fell and bombardier started the\n",
      "emperor of other new aircraft seating 110 to whisk passengers . paul\n",
      "oaten had announced he aspired to be within the year's top car maker\n",
      "and third largest maker of the aircraft and the euro was announced .\n",
      "but he has not concerned with a bigger share tips and disorder . \"this\n",
      "being the company said it owes $9.8m (£70.7m) raised our fourth year,\n",
      "up as a sense of $44.38 a year ago . \"we see the country's promise\n",
      "that they would just think responsible because a queen and i comments\n",
      "to graeme and pr strategies, although we rights to close the career\n",
      "structure at no time .\" mr brown said . a performance on gamecube .\n",
      "she said the plans for up after mr glazer's would continue to be\n",
      "exploited . but in bombardier lost 65 canadian cents or 18% from the\n",
      "deal to 1.90 canadian dollars before turning to 2.20 canadian dollars.\n"
     ]
    }
   ],
   "source": [
    "import textwrap\n",
    "print(textwrap.fill(new_doc, replace_whitespace=False, fix_sentence_endings=True))"
   ]
  },
  {
   "cell_type": "code",
   "execution_count": null,
   "metadata": {
    "id": "Ce9zD3ISvgB0"
   },
   "outputs": [],
   "source": []
  }
 ],
 "metadata": {
  "colab": {
   "provenance": []
  },
  "kernelspec": {
   "display_name": "Python 3 (ipykernel)",
   "language": "python",
   "name": "python3"
  },
  "language_info": {
   "codemirror_mode": {
    "name": "ipython",
    "version": 3
   },
   "file_extension": ".py",
   "mimetype": "text/x-python",
   "name": "python",
   "nbconvert_exporter": "python",
   "pygments_lexer": "ipython3",
   "version": "3.8.19"
  }
 },
 "nbformat": 4,
 "nbformat_minor": 4
}
